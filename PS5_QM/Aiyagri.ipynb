{
 "cells": [
  {
   "cell_type": "markdown",
   "metadata": {},
   "source": [
    "## Aiyagari "
   ]
  },
  {
   "cell_type": "code",
   "execution_count": 3,
   "metadata": {},
   "outputs": [],
   "source": [
    "import numpy as np\n",
    "from numba import jit\n",
    "import quantecon as qe\n",
    "import matplotlib.pyplot as plt\n",
    "from quantecon.markov import DiscreteDP"
   ]
  },
  {
   "cell_type": "code",
   "execution_count": 11,
   "metadata": {},
   "outputs": [],
   "source": [
    "class Household:\n",
    "    \"\"\"\n",
    "    This class takes the parameters that define a household asset accumulation\n",
    "    problem and computes the corresponding reward and transition matrices R\n",
    "    and Q required to generate an instance of DiscreteDP, and thereby solve\n",
    "    for the optimal policy.\n",
    "\n",
    "    Comments on indexing: We need to enumerate the state space S as a sequence\n",
    "    S = {0, ..., n}.  To this end, (a_i, z_i) index pairs are mapped to s_i\n",
    "    indices according to the rule\n",
    "\n",
    "        s_i = a_i * z_size + z_i \n",
    "\n",
    "    To invert this map, use\n",
    "    \n",
    "        a_i = s_i // z_size  (integer division)\n",
    "        z_i = s_i % z_size\n",
    "\n",
    "    \"\"\"\n",
    "\n",
    "\n",
    "    def __init__(self,\n",
    "                 r=0.02,                      # interest rate\n",
    "                 w=1.0,                       # wages\n",
    "                 β=0.96,                # discount factor\n",
    "                 a_min=0,\n",
    "                 Π=[[0.05, 0.15, 0.2, 0.2, 0.2, 0.15,0.05],[0.05, 0.15, 0.2, 0.2, 0.2, 0.15,0.05],[0.05, 0.15, 0.2, 0.2, 0.2, 0.15,0.05],[0.05, 0.15, 0.2, 0.2, 0.2, 0.15,0.05],[0.05, 0.15, 0.2, 0.2, 0.2, 0.15,0.05],[0.05, 0.15, 0.2, 0.2, 0.2, 0.15,0.05],[0.05, 0.15, 0.2, 0.2, 0.2, 0.15,0.05]],\n",
    "                 z_vals=[0.2,0.1,0.35,0.2,0.6, 0.5, 0.75],\n",
    "                 a_max=20,\n",
    "                 a_size=100):\n",
    "\n",
    "        # Store values, set up grids over a and z\n",
    "        self.r, self.w, self.β = r, w, β\n",
    "        self.a_min, self.a_max, self.a_size = a_min, a_max, a_size\n",
    "\n",
    "        self.Π = np.asarray(Π)\n",
    "        self.z_vals = np.asarray(z_vals)\n",
    "        self.z_size = len(z_vals)\n",
    "\n",
    "        self.a_vals = np.linspace(a_min, a_max, a_size)\n",
    "        self.n = a_size * self.z_size\n",
    "\n",
    "        # Build the array Q\n",
    "        self.Q = np.zeros((self.n, a_size, self.n))\n",
    "        self.build_Q()\n",
    "\n",
    "        # Build the array R\n",
    "        self.R = np.empty((self.n, a_size))\n",
    "        self.build_R()\n",
    "\n",
    "    def set_prices(self, r, w):\n",
    "        \"\"\"\n",
    "        Use this method to reset prices.  Calling the method will trigger a\n",
    "        re-build of R.\n",
    "        \"\"\"\n",
    "        self.r, self.w = r, w\n",
    "        self.build_R()\n",
    "\n",
    "    def build_Q(self):\n",
    "        populate_Q(self.Q, self.a_size, self.z_size, self.Π)\n",
    "\n",
    "    def build_R(self):\n",
    "        self.R.fill(-np.inf)\n",
    "        populate_R(self.R, self.a_size, self.z_size, self.a_vals, self.z_vals, self.r, self.w)\n",
    "\n",
    "\n",
    "# Do the hard work using JIT-ed functions\n",
    "\n",
    "@jit(nopython=True)\n",
    "def populate_R(R, a_size, z_size, a_vals, z_vals, r, w):\n",
    "    n = a_size * z_size\n",
    "    for s_i in range(n):\n",
    "        a_i = s_i // z_size\n",
    "        z_i = s_i % z_size\n",
    "        a = a_vals[a_i]\n",
    "        z = z_vals[z_i]\n",
    "        for new_a_i in range(a_size):\n",
    "            a_new = a_vals[new_a_i]\n",
    "            c = w * z + (1 + r) * a - a_new\n",
    "            if c > 0:\n",
    "                R[s_i, new_a_i] = (pow(c,1-3)-1)/(1-3)   # Utility\n",
    "\n",
    "@jit(nopython=True)\n",
    "def populate_Q(Q, a_size, z_size, Π):\n",
    "    n = a_size * z_size\n",
    "    for s_i in range(n):\n",
    "        z_i = s_i % z_size\n",
    "        for a_i in range(a_size):\n",
    "            for next_z_i in range(z_size):\n",
    "                Q[s_i, a_i, a_i * z_size + next_z_i] = Π[z_i, next_z_i]\n",
    "\n",
    "\n",
    "@jit(nopython=True)\n",
    "def asset_marginal(s_probs, a_size, z_size):\n",
    "    a_probs = np.zeros(a_size)\n",
    "    for a_i in range(a_size):\n",
    "        for z_i in range(z_size):\n",
    "            a_probs[a_i] += s_probs[a_i * z_size + z_i]\n",
    "    return a_probs\n",
    "\n",
    "@jit(nopython=True)\n",
    "def consumption_marginal(s_probs, a_size, z_size):\n",
    "    c_probs = np.zeros(a_size)\n",
    "    for a_i in range(a_size):\n",
    "        for z_i in range(z_size):\n",
    "            c_probs[a_i] += s_probs[a_i * z_size + z_i]\n",
    "    return c_probs"
   ]
  },
  {
   "cell_type": "code",
   "execution_count": 12,
   "metadata": {},
   "outputs": [
    {
     "data": {
      "image/png": "[encoded data removed]",
      "text/plain": [
       "<Figure size 792x576 with 1 Axes>"
      ]
     },
     "metadata": {},
     "output_type": "display_data"
    }
   ],
   "source": [
    "A = 1.0\n",
    "N = 1.0\n",
    "α = 0.36\n",
    "β = 0.96\n",
    "δ = 0.05\n",
    "\n",
    "\n",
    "def r_to_w(r):\n",
    "    \"\"\"\n",
    "    Equilibrium wages associated with a given interest rate r.\n",
    "    \"\"\"\n",
    "    return A * (1 - α) * (A * α / (r + δ))**(α / (1 - α))\n",
    "\n",
    "def rd(K):\n",
    "    \"\"\"\n",
    "    Inverse demand curve for capital.  The interest rate associated with a\n",
    "    given demand for capital K.\n",
    "    \"\"\"\n",
    "    return A * α * (N / K)**(1 - α) - δ\n",
    "\n",
    "\n",
    "def prices_to_capital_stock(am, r):\n",
    "    \"\"\"\n",
    "    Map prices to the induced level of capital stock.\n",
    "    \n",
    "    Parameters:\n",
    "    ----------\n",
    "    \n",
    "    am : Household\n",
    "        An instance of an aiyagari_household.Household \n",
    "    r : float\n",
    "        The interest rate\n",
    "    \"\"\"\n",
    "    w = r_to_w(r)\n",
    "    am.set_prices(r, w)\n",
    "    aiyagari_ddp = DiscreteDP(am.R, am.Q, β)\n",
    "    # Compute the optimal policy\n",
    "    results = aiyagari_ddp.solve(method='policy_iteration')\n",
    "    # Compute the stationary distribution\n",
    "    stationary_probs = results.mc.stationary_distributions[0]\n",
    "    # Extract the marginal distribution for assets\n",
    "    asset_probs = asset_marginal(stationary_probs, am.a_size, am.z_size)\n",
    "    # Return K\n",
    "    return np.sum(asset_probs * am.a_vals)\n",
    "\n",
    "\n",
    "# Create an instance of Household\n",
    "am = Household(a_max=30)\n",
    "\n",
    "# Use the instance to build a discrete dynamic program\n",
    "am_ddp = DiscreteDP(am.R, am.Q, am.β)\n",
    "\n",
    "# Create a grid of r values at which to compute demand and supply of capital\n",
    "num_points = 100\n",
    "r_vals = np.linspace(0.005, 0.04, num_points)\n",
    "\n",
    "# Compute supply of capital\n",
    "k_vals = np.empty(num_points)\n",
    "for i, r in enumerate(r_vals):\n",
    "    k_vals[i] = prices_to_capital_stock(am, r)\n",
    "\n",
    "# Plot against demand for capital by firms\n",
    "fig, ax = plt.subplots(figsize=(11, 8))\n",
    "ax.plot(k_vals, r_vals, lw=2, alpha=0.6, label='supply of capital')\n",
    "ax.plot(k_vals, rd(k_vals), lw=2, alpha=0.6, label='demand for capital')\n",
    "ax.grid()\n",
    "ax.set_xlabel('capital')\n",
    "ax.set_ylabel('interest rate')\n",
    "ax.legend(loc='upper right')\n",
    "plt.title(\"Supply and Demand of Capital\")\n",
    "plt.show()"
   ]
  },
  {
   "cell_type": "code",
   "execution_count": 13,
   "metadata": {},
   "outputs": [
    {
     "data": {
      "text/plain": [
       "Text(0.5,1,'Stationary distribution of assets')"
      ]
     },
     "execution_count": 13,
     "metadata": {},
     "output_type": "execute_result"
    },
    {
     "data": {
      "image/png": "[encoded data removed]",
      "text/plain": [
       "<Figure size 432x288 with 1 Axes>"
      ]
     },
     "metadata": {},
     "output_type": "display_data"
    }
   ],
   "source": [
    "#We need to find the distribution of assets and the stationary distribution\n",
    "am_ddp = DiscreteDP(am.R, am.Q, am.β)\n",
    "results = am_ddp.solve(method='policy_iteration')\n",
    "# Compute the stationary distribution\n",
    "stationary_probs = results.mc.stationary_distributions[0]\n",
    "# Extract the marginal distribution for assets\n",
    "asset_probs = asset_marginal(stationary_probs, am.a_size, am.z_size)\n",
    "\n",
    "#PLOT\n",
    "plt.figure()\n",
    "plt.hist(asset_probs)\n",
    "plt.title('Stationary distribution of assets')"
   ]
  },
  {
   "cell_type": "code",
   "execution_count": 14,
   "metadata": {},
   "outputs": [
    {
     "data": {
      "text/plain": [
       "0.7729578591738966"
      ]
     },
     "execution_count": 14,
     "metadata": {},
     "output_type": "execute_result"
    }
   ],
   "source": [
    "def gini(array):\n",
    "    \"\"\"Calculate the Gini coefficient of a numpy array.\"\"\"\n",
    "    array = array.flatten()\n",
    "    if np.amin(array) < 0:\n",
    "        # Values cannot be negative:\n",
    "        array -= np.amin(array)\n",
    "    # Values cannot be 0:\n",
    "    array += 0.0000001\n",
    "    # Values must be sorted:\n",
    "    array = np.sort(array)\n",
    "    # Index per array element:\n",
    "    index = np.arange(1,array.shape[0]+1)\n",
    "    # Number of array elements:\n",
    "    n = array.shape[0]\n",
    "    # Gini coefficient:\n",
    "    return ((np.sum((2 * index - n  - 1) * array)) / (n * np.sum(array)))\n",
    "\n",
    "gini(asset_probs)"
   ]
  },
  {
   "cell_type": "code",
   "execution_count": null,
   "metadata": {},
   "outputs": [],
   "source": []
  },
  {
   "cell_type": "code",
   "execution_count": null,
   "metadata": {},
   "outputs": [],
   "source": []
  }
 ],
 "metadata": {
  "kernelspec": {
   "display_name": "Python 3",
   "language": "python",
   "name": "python3"
  },
  "language_info": {
   "codemirror_mode": {
    "name": "ipython",
    "version": 3
   },
   "file_extension": ".py",
   "mimetype": "text/x-python",
   "name": "python",
   "nbconvert_exporter": "python",
   "pygments_lexer": "ipython3",
   "version": "3.6.5"
  }
 },
 "nbformat": 4,
 "nbformat_minor": 2
}
