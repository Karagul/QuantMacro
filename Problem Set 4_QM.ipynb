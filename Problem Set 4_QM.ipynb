{
 "cells": [
  {
   "cell_type": "markdown",
   "metadata": {},
   "source": [
    "## Problem Set 4"
   ]
  },
  {
   "cell_type": "markdown",
   "metadata": {},
   "source": [
    "### Mridula Duggal"
   ]
  },
  {
   "cell_type": "markdown",
   "metadata": {},
   "source": [
    "## Exercise 1"
   ]
  },
  {
   "cell_type": "markdown",
   "metadata": {},
   "source": [
    "We need to rewrite the sequential formulation oof the model in recursive form. This is possible due to the equivalence between the two forms. The recursive formulation is given by the following, \n",
    "\n",
    "$V(k) = max_{k'} u (k^{(1-\\theta)} + (1-\\delta)k - k') + \\beta V(k')$\n",
    "\n",
    "Since there is no uncertainty in the model and perfect aggregation holds, we know that this model can be reduced to a representative agent model. "
   ]
  },
  {
   "cell_type": "markdown",
   "metadata": {},
   "source": [
    "### Part a - Brute force iterations of the value function"
   ]
  },
  {
   "cell_type": "code",
   "execution_count": 4,
   "metadata": {},
   "outputs": [
    {
     "name": "stdout",
     "output_type": "stream",
     "text": [
      "Program Executed in 6.5\n",
      "Number of iterations: 99\n"
     ]
    },
    {
     "data": {
      "text/plain": [
       "Text(0,0.5,'Utility')"
      ]
     },
     "execution_count": 4,
     "metadata": {},
     "output_type": "execute_result"
    },
    {
     "data": {
      "image/png": "[encoded data removed]",
      "text/plain": [
       "<Figure size 432x288 with 1 Axes>"
      ]
     },
     "metadata": {},
     "output_type": "display_data"
    }
   ],
   "source": [
    "# TRYING TO CHANGE ZIP FOR FOR LOOP\n",
    "\n",
    "#Import packages\n",
    "import numpy as np\n",
    "import matplotlib.pyplot as plt\n",
    "import warnings\n",
    "warnings.filterwarnings(\"ignore\", category=RuntimeWarning) \n",
    "import timeit\n",
    "\n",
    "#Set the parameters value\n",
    "beta=0.988   \n",
    "theta=.679\n",
    "delta=.013\n",
    "kappa = 5.24\n",
    "nu = 2\n",
    "start = timeit.default_timer()\n",
    "\n",
    "# STEP 1: DISCRETIZE THE STATE SPACE. \n",
    "k_ss=(1/(1-theta)*((1/beta)+delta-1))**(-1/theta)\n",
    "k=np.linspace(0.01,1.5*k_ss,100)#evenly spaced grid. \n",
    "\n",
    "#STEP 2: Initial guess\n",
    "#Define a matrix which column vectors are sequential iterations of the value function. \n",
    "V = np.empty(shape=[100, 350])\n",
    "#Guess the initial column vector\n",
    "V[:,0]=np.zeros((100))\n",
    "\n",
    "\n",
    "#STEP 3: Feasible return matrix (M).\n",
    "# Get the grid of all possible combinations of inputs. \n",
    "Z1,Z2=np.meshgrid(k,k)\n",
    "\n",
    "# Feasible combinations\n",
    "def feasibility(z1,z2):\n",
    "    return z1**(1-theta) + (1-delta)*z1 - z2\n",
    "\n",
    "#Evaluate the feasibility of different combinations of k_t and k_t+1.\n",
    "N = feasibility(Z1,Z2)\n",
    "\n",
    "# Feasible utility function\n",
    "def utility(z1,z2):\n",
    "    for i in range(100):\n",
    "        for j in range (100):\n",
    "                if N[i,j]>=0:\n",
    "                    return np.log10(z1**(1-theta) + (1-delta)*z1 - z2) - (kappa/(1 + 1/nu))\n",
    "            \n",
    "#Define the feasible return matrix\n",
    "M = utility(Z1,Z2)\n",
    "M[np.isnan(M)] = -100\n",
    "\n",
    "#STEP 4: VALUE FUNCTION MATRIX ITERATION\n",
    "#Notice that since the expectation of the shock is 1, the vector V and W are the same. So we can proceed as before. \n",
    "X = np.empty(shape=[100, 100, 2])\n",
    "G= np.empty(shape=[100, 350])\n",
    "count=0\n",
    "for s in range(0,349):\n",
    "    epsilon=0.01\n",
    "    for i in range(100):\n",
    "        for j in range(100):\n",
    "                X[i,j]=M[i,j]+(beta*V[:,s][j])        \n",
    "    for i in range(0,100):\n",
    "        V[:,s+1][i]= np.amax(X[:,i]) #Iteration\n",
    "        G[:,s][i]=np.argmax(X[:,i]) # This line stores the policy function at each iteration. \n",
    "        for i in range(0,100):\n",
    "            if abs(V[:,s+1][i]-V[:,s][i])> epsilon:\n",
    "                continue\n",
    "            else:\n",
    "                count +=1\n",
    "                break\n",
    "\n",
    "stop = timeit.default_timer()\n",
    "execution_time = stop - start\n",
    "execution_time=round(execution_time,2)\n",
    "print('Program Executed in', execution_time) #It returns time in sec\n",
    "print('Number of iterations:', count)\n",
    "\n",
    "#STEP 6: PLOT \n",
    "k=np.linspace(0.01,2*k_ss,100)\n",
    "plt.plot(k,V[:,349])\n",
    "plt.title('Value Function')\n",
    "plt.xlabel('Capital')\n",
    "plt.ylabel('Utility')"
   ]
  },
  {
   "cell_type": "markdown",
   "metadata": {},
   "source": [
    "To run value function iteration, we require an initial guess. The initial guess we use is $V^{s}=0$. In accordance, with the contraction mapping theorem we know that no matter what the initial guess is, we will obtain a function as a fixed point provided certain properties are satisfied by the state space. Using, 200 iterations and 100 nodes we find that the loop reaches the fixed point slowly. It takes 99 iterations and 6.5 seconds for the fixed point to be reached. "
   ]
  },
  {
   "cell_type": "markdown",
   "metadata": {},
   "source": [
    "### Part b - Value Function Interation taking into account the optimal policy decision."
   ]
  },
  {
   "cell_type": "code",
   "execution_count": 5,
   "metadata": {},
   "outputs": [
    {
     "name": "stdout",
     "output_type": "stream",
     "text": [
      "Program Executed in 8.38\n",
      "Number of iterations: 99\n"
     ]
    },
    {
     "data": {
      "text/plain": [
       "Text(0,0.5,'Utility')"
      ]
     },
     "execution_count": 5,
     "metadata": {},
     "output_type": "execute_result"
    },
    {
     "data": {
      "image/png": "[encoded data removed]",
      "text/plain": [
       "<Figure size 432x288 with 1 Axes>"
      ]
     },
     "metadata": {},
     "output_type": "display_data"
    }
   ],
   "source": [
    "# TRYING TO CHANGE ZIP FOR FOR LOOP\n",
    "\n",
    "#Import packages\n",
    "import numpy as np\n",
    "import matplotlib.pyplot as plt\n",
    "import warnings\n",
    "warnings.filterwarnings(\"ignore\", category=RuntimeWarning) \n",
    "import timeit\n",
    "\n",
    "#Set the parameters value\n",
    "beta=0.988   \n",
    "theta=.679\n",
    "delta=.013\n",
    "nu = 2\n",
    "start = timeit.default_timer()\n",
    "\n",
    "# STEP 1: DISCRETIZE THE STATE SPACE. \n",
    "k_ss=(1/(1-theta)*((1/beta)+delta-1))**(-1/theta)\n",
    "k=np.linspace(0.01,1.5*k_ss,100)#evenly spaced grid. \n",
    "\n",
    "#STEP 2: Initial guess\n",
    "#Define a matrix which column vectors are sequential iterations of the value function. \n",
    "V = np.empty(shape=[100, 350])\n",
    "#Guess the initial column vector\n",
    "V[:,0]=np.zeros((100))\n",
    "\n",
    "\n",
    "#STEP 3: Feasible return matrix (M).\n",
    "# Get the grid of all possible combinations of inputs. \n",
    "Z1,Z2=np.meshgrid(k,k)\n",
    "\n",
    "# Feasible combinations\n",
    "def feasibility(z1,z2):\n",
    "    return z1**(1-theta) + (1-delta)*z1 - z2\n",
    "\n",
    "#Evaluate the feasibility of different combinations of k_t and k_t+1.\n",
    "N = feasibility(Z1,Z2)\n",
    "\n",
    "# Feasible utility function\n",
    "def utility(z1,z2):\n",
    "    for i in range(100):\n",
    "        for j in range (100):\n",
    "                if N[i,j]>=0:\n",
    "                    return np.log10(z1**(1-theta) + (1-delta)*z1 - z2) - (kappa/(1 + 1/nu))\n",
    "            \n",
    "#Define the feasible return matrix\n",
    "M = utility(Z1,Z2)\n",
    "M[np.isnan(M)] = -100\n",
    "\n",
    "#STEP 4: VALUE FUNCTION MATRIX ITERATION\n",
    "#Notice that since the expectation of the shock is 1, the vector V and W are the same. So we can proceed as before. \n",
    "X = np.empty(shape=[100, 100, 2])\n",
    "G= np.empty(shape=[100, 350])\n",
    "count=0\n",
    "for s in range(0,349):\n",
    "    epsilon=0.01\n",
    "    for i in range(100):\n",
    "        for j in range(100):\n",
    "            if j >= G[:,s+1][i]:\n",
    "                X[i,j]=M[i,j]+(beta*V[:,s][j])        \n",
    "    for i in range(0,100):\n",
    "        V[:,s+1][i]= np.amax(X[:,i]) #Iteration\n",
    "        G[:,s][i]=np.argmax(X[:,i]) # This line stores the policy function at each iteration. \n",
    "        for i in range(0,100):\n",
    "            if abs(V[:,s+1][i]-V[:,s][i])> epsilon:\n",
    "                continue\n",
    "            else:\n",
    "                count +=1\n",
    "                break\n",
    "\n",
    "stop = timeit.default_timer()\n",
    "execution_time = stop - start\n",
    "execution_time=round(execution_time,2)\n",
    "print('Program Executed in', execution_time) #It returns time in sec\n",
    "print('Number of iterations:', count)\n",
    "\n",
    "#STEP 6: PLOT \n",
    "k=np.linspace(0.01,2*k_ss,100)\n",
    "plt.plot(k,V[:,349])\n",
    "plt.title('Value Function')\n",
    "plt.xlabel('Capital')\n",
    "plt.ylabel('Utility')"
   ]
  },
  {
   "cell_type": "markdown",
   "metadata": {},
   "source": [
    "To add mononotonicty of the decision rule we use an if statement. Since the policy rule is the argmax, Python only returns the indices of the argmax. Therefore, we use the statement to specify that the value function iteration should only occur if the $k_{j} \\geq g^{s}(k_{i})$. We find that the time taken by the algorithm when using monotonicity is significantly greater than the timetaken by brute force even though the number of iterations are the same.  "
   ]
  },
  {
   "cell_type": "markdown",
   "metadata": {},
   "source": [
    "### Part c - Value Function Iteration taking into account the Concavity of the Value Function"
   ]
  },
  {
   "cell_type": "code",
   "execution_count": 18,
   "metadata": {},
   "outputs": [
    {
     "data": {
      "image/png": "[encoded data removed]",
      "text/plain": [
       "<Figure size 432x288 with 1 Axes>"
      ]
     },
     "metadata": {},
     "output_type": "display_data"
    }
   ],
   "source": [
    "#Import packages\n",
    "import numpy as np\n",
    "import matplotlib.pyplot as plt\n",
    "import warnings\n",
    "warnings.filterwarnings(\"ignore\", category=RuntimeWarning) \n",
    "import timeit\n",
    "start = timeit.default_timer()\n",
    "#Set the parameters value\n",
    "beta=0.988   \n",
    "theta=.679\n",
    "delta=.013\n",
    "\n",
    "# STEP 1: DISCRETIZE THE STATE SPACE. \n",
    "k_ss=(1/(1-theta)*((1/beta)+delta-1))**(-1/theta)\n",
    "k=np.linspace(0.01,1.5*k_ss,100)#evenly spaced grid. \n",
    "\n",
    "\n",
    "#STEP 2: Initial guess\n",
    "#Define a matrix which column vectors are sequential iterations of the value function. \n",
    "V = np.empty(shape=[100, 200])\n",
    "#Guess the initial column vector\n",
    "V[:,0]=np.zeros((100))\n",
    "\n",
    "\n",
    "#STEP 3: Feasible return matrix (M).\n",
    "# Get the grid of all possible combinations of inputs. \n",
    "Z1,Z2=np.meshgrid(k,k)\n",
    "\n",
    "# Feasible combinations\n",
    "def feasibility(z1,z2):\n",
    "    return z1**(1-theta) + (1-delta)*z1 - z2\n",
    "\n",
    "#Evaluate the feasibility of different combinations of k_t and k_t+1.\n",
    "N = feasibility(Z1,Z2)\n",
    "\n",
    "# Feasible utility function\n",
    "def utility(z1,z2):\n",
    "    for i,j in zip(range(0,100),range(0,100)):\n",
    "        if N[i,j]>=0:\n",
    "            return np.log10(z1**(1-theta) + (1-delta)*z1 - z2)\n",
    "        else:\n",
    "            return -100\n",
    "\n",
    "#Define the feasible return matrix\n",
    "M = utility(Z1,Z2)\n",
    "#STORE THE POLICY FUNCTION AT THE END OF EACH ITERATION\n",
    "\n",
    "\n",
    "#STEP 4': VALUE FUNCTION MATRIX ITERATION\n",
    "X = np.empty(shape=[100, 100])\n",
    "for s in range(0,199):\n",
    "    epsilon=0.01\n",
    "    for i,j in zip(range(0,100),range(0,100)):\n",
    "        if X[i, j-1]<X[i,j]:\n",
    "            X[i,j]=M[i,j]+(beta*V[:,s][j])\n",
    "            X[np.isnan(X)] = 0 \n",
    "            for i in range(0,100):\n",
    "                V[:,s+1][i]= np.amax(X[i,:])\n",
    "            for k,i in zip(range(0,199),range(0,100)):\n",
    "                if abs(V[:,s+1][i]-V[:,s][i])< epsilon:\n",
    "                    break\n",
    "                else:\n",
    "                    continue\n",
    "\n",
    "\n",
    "k1=np.linspace(0.01,1.5*k_ss,100)\n",
    "plt.plot(k1,V[:,199])\n",
    "plt.title('Value Function')\n",
    "plt.xlabel('Capital')\n",
    "plt.ylabel('Utility')\n",
    "#plt.xlim([0,50])\n",
    "#plt.ylim([0,35])\n",
    "plt.show()\n",
    "stop = timeit.default_timer()\n",
    "execution_time = stop - start\n",
    "execution_time = round(execution_time,2)\n",
    "print('Program Executed in', execution_time) #It returns time in sec"
   ]
  },
  {
   "cell_type": "markdown",
   "metadata": {},
   "source": [
    "Concavity converges quickly to a fixed point. It does not is significantly faster compared to monotonicity. The time of convergence is very close to the the time taken without concavity and monotonicity.  "
   ]
  },
  {
   "cell_type": "markdown",
   "metadata": {},
   "source": [
    "### Part d - Value function taking into account local search on the decision rule"
   ]
  },
  {
   "cell_type": "code",
   "execution_count": 17,
   "metadata": {},
   "outputs": [
    {
     "name": "stdout",
     "output_type": "stream",
     "text": [
      "Program Executed in 2.28\n"
     ]
    },
    {
     "data": {
      "text/plain": [
       "Text(0,0.5,'Utility')"
      ]
     },
     "execution_count": 17,
     "metadata": {},
     "output_type": "execute_result"
    },
    {
     "data": {
      "image/png": "[encoded data removed]",
      "text/plain": [
       "<Figure size 432x288 with 1 Axes>"
      ]
     },
     "metadata": {},
     "output_type": "display_data"
    }
   ],
   "source": [
    "# TRYING TO CHANGE ZIP FOR FOR LOOP\n",
    "\n",
    "#Import packages\n",
    "import numpy as np\n",
    "import matplotlib.pyplot as plt\n",
    "import warnings\n",
    "warnings.filterwarnings(\"ignore\", category=RuntimeWarning) \n",
    "import timeit\n",
    "\n",
    "#Set the parameters value\n",
    "beta=0.988   \n",
    "theta=.679\n",
    "delta=.013\n",
    "nu = 2\n",
    "start = timeit.default_timer()\n",
    "\n",
    "# STEP 1: DISCRETIZE THE STATE SPACE. \n",
    "k_ss=(1/(1-theta)*((1/beta)+delta-1))**(-1/theta)\n",
    "k=np.linspace(0.01,1.5*k_ss,100)#evenly spaced grid. \n",
    "\n",
    "#STEP 2: Initial guess\n",
    "#Define a matrix which column vectors are sequential iterations of the value function. \n",
    "V = np.empty(shape=[100, 350])\n",
    "#Guess the initial column vector\n",
    "V[:,0]=np.zeros((100))\n",
    "\n",
    "\n",
    "#STEP 3: Feasible return matrix (M).\n",
    "# Get the grid of all possible combinations of inputs. \n",
    "Z1,Z2=np.meshgrid(k,k)\n",
    "\n",
    "# Feasible combinations\n",
    "def feasibility(z1,z2):\n",
    "    return z1**(1-theta) + (1-delta)*z1 - z2\n",
    "\n",
    "#Evaluate the feasibility of different combinations of k_t and k_t+1.\n",
    "N = feasibility(Z1,Z2)\n",
    "\n",
    "# Feasible utility function\n",
    "def utility(z1,z2):\n",
    "    for i in range(100):\n",
    "        for j in range (100):\n",
    "                if N[i,j]>=0:\n",
    "                    return np.log10(z1**(1-theta) + (1-delta)*z1 - z2) - (kappa/(1 + 1/nu))\n",
    "            \n",
    "#Define the feasible return matrix\n",
    "M = utility(Z1,Z2)\n",
    "M[np.isnan(M)] = -100\n",
    "\n",
    "#STEP 4: VALUE FUNCTION MATRIX ITERATION\n",
    "#Notice that since the expectation of the shock is 1, the vector V and W are the same. So we can proceed as before. \n",
    "X = np.empty(shape=[100, 100, 2])\n",
    "G= np.empty(shape=[100, 350])\n",
    "count=0\n",
    "for s in range(0,349):\n",
    "    epsilon=0.01\n",
    "    for i in range(100):\n",
    "        for j in range(100):\n",
    "            if j == G[:,s+1][i]:\n",
    "                X[i,j]=M[i,j]+(beta*V[:,s][j])        \n",
    "    for i in range(0,100):\n",
    "        V[:,s+1][i]= np.amax(X[:,i]) #Iteration\n",
    "        G[:,s][i]=np.argmax(X[:,i]) # This line stores the policy function at each iteration. \n",
    "        for i in range(0,100):\n",
    "            if abs(V[:,s+1][i]-V[:,s][i])> epsilon:\n",
    "                continue\n",
    "            else:\n",
    "                count +=1\n",
    "                break\n",
    "\n",
    "stop = timeit.default_timer()\n",
    "execution_time = stop - start\n",
    "execution_time=round(execution_time,2)\n",
    "print('Program Executed in', execution_time) #It returns time in sec\n",
    "#print('Number of iterations:', count)\n",
    "\n",
    "#STEP 6: PLOT \n",
    "k=np.linspace(0,5,100)\n",
    "plt.plot(k,V[:,349])\n",
    "plt.title('Value Function')\n",
    "plt.xlabel('Capital')\n",
    "plt.ylabel('Utility')"
   ]
  },
  {
   "cell_type": "markdown",
   "metadata": {},
   "source": [
    "Changing the search area to between 0 and 3, gives us the same value function. However, the time taken to find the value function is significantly lower when using this method, compared to when using concavity. However, the number of iterations is very high. "
   ]
  },
  {
   "cell_type": "markdown",
   "metadata": {},
   "source": [
    "### Part e - Iterations of the value function taking into account both concavity of the value function and monotonicity of the decision rule"
   ]
  },
  {
   "cell_type": "code",
   "execution_count": 298,
   "metadata": {},
   "outputs": [
    {
     "data": {
      "image/png": "[encoded data removed]",
      "text/plain": [
       "<Figure size 432x288 with 1 Axes>"
      ]
     },
     "metadata": {},
     "output_type": "display_data"
    },
    {
     "name": "stdout",
     "output_type": "stream",
     "text": [
      "Program Executed in 0.16\n"
     ]
    }
   ],
   "source": [
    "#Import packages\n",
    "import numpy as np\n",
    "import matplotlib.pyplot as plt\n",
    "import warnings\n",
    "warnings.filterwarnings(\"ignore\", category=RuntimeWarning) \n",
    "import timeit\n",
    "start = timeit.default_timer()\n",
    "#Set the parameters value\n",
    "beta=0.988   \n",
    "theta=.679\n",
    "delta=.013\n",
    "\n",
    "# STEP 1: DISCRETIZE THE STATE SPACE. \n",
    "k_ss=(1/(1-theta)*((1/beta)+delta-1))**(-1/theta)\n",
    "k=np.linspace(0.01,1.5*k_ss,100)#evenly spaced grid. \n",
    "\n",
    "\n",
    "#STEP 2: Initial guess\n",
    "#Define a matrix which column vectors are sequential iterations of the value function. \n",
    "V = np.empty(shape=[100, 200])\n",
    "#Guess the initial column vector\n",
    "V[:,0]=np.zeros((100))\n",
    "\n",
    "\n",
    "#STEP 3: Feasible return matrix (M).\n",
    "# Get the grid of all possible combinations of inputs. \n",
    "Z1,Z2=np.meshgrid(k,k)\n",
    "\n",
    "# Feasible combinations\n",
    "def feasibility(z1,z2):\n",
    "    return z1**(1-theta) + (1-delta)*z1 - z2\n",
    "\n",
    "#Evaluate the feasibility of different combinations of k_t and k_t+1.\n",
    "N = feasibility(Z1,Z2)\n",
    "\n",
    "# Feasible utility function\n",
    "def utility(z1,z2):\n",
    "    for i,j in zip(range(0,100),range(0,100)):\n",
    "        if N[i,j]>=0:\n",
    "            return np.log10(z1**(1-theta) + (1-delta)*z1 - z2)\n",
    "        else:\n",
    "            return -100\n",
    "\n",
    "#Define the feasible return matrix\n",
    "M = utility(Z1,Z2)\n",
    "#STORE THE POLICY FUNCTION AT THE END OF EACH ITERATION\n",
    "\n",
    "\n",
    "#STEP 4': VALUE FUNCTION MATRIX ITERATION\n",
    "V4 = np.empty(shape=[100, 200])\n",
    "V4[:,0]=np.zeros((100))\n",
    "G4 = np.empty(shape=[100, 200])\n",
    "X4 = np.empty(shape=[100, 100]) \n",
    "for s in range(0,199):\n",
    "    epsilon=0.01\n",
    "    for i,j in zip(range(0,100),range(0,100)):\n",
    "        if j >= G4[:,s+1][i]: #Condition for Monotonicity\n",
    "            if X4[i, j]>X4[i,j-1]: #Condition for Concavity\n",
    "                X4[i,j]=M[i,j]+(beta*V4[:,s][j])\n",
    "                X4[np.isnan(X4)] = 0 \n",
    "                for i in range(0,100):\n",
    "                    V4[:,s+1][i]= np.amax(X4[i,:])\n",
    "                    G4[:,s]=np.argmax(X4[i,:])\n",
    "                for i in range(0,100):\n",
    "                    if abs(V4[:,s+1][i]-V4[:,s][i])> epsilon:\n",
    "                        continue\n",
    "                    else:\n",
    "                        count += 1\n",
    "                        break\n",
    "\n",
    "k1=np.linspace(0.01,1.5*k_ss,100)\n",
    "plt.plot(k1,V4[:,199])\n",
    "plt.title('Value Function')\n",
    "plt.xlabel('Capital')\n",
    "plt.ylabel('Utility')\n",
    "#plt.xlim([0,90])\n",
    "#plt.ylim([0,45])\n",
    "plt.show()\n",
    "\n",
    "stop = timeit.default_timer()\n",
    "execution_time = stop - start\n",
    "execution_time = round(execution_time,2)\n",
    "print('Program Executed in', execution_time) #It returns time in sec"
   ]
  },
  {
   "cell_type": "markdown",
   "metadata": {},
   "source": [
    "Using monotonicity and concavity together, we find that the time taken by the algorithm to converge to the fixed point decreases significantly compared to using brute force. "
   ]
  },
  {
   "cell_type": "markdown",
   "metadata": {},
   "source": [
    "## Redo item 1 adding a labor choice that is continuous. For this, set $ \\kappa$ = 5.24 and $\\nu$ = 2.0."
   ]
  },
  {
   "cell_type": "code",
   "execution_count": 18,
   "metadata": {},
   "outputs": [
    {
     "name": "stdout",
     "output_type": "stream",
     "text": [
      "Program Executed in 14.34\n",
      "Number of iterations: 349\n"
     ]
    },
    {
     "data": {
      "image/png": "[encoded data removed]",
      "text/plain": [
       "<Figure size 432x288 with 1 Axes>"
      ]
     },
     "metadata": {},
     "output_type": "display_data"
    }
   ],
   "source": [
    "#Import packages\n",
    "import numpy as np\n",
    "import matplotlib.pyplot as plt\n",
    "import timeit\n",
    "import warnings\n",
    "warnings.filterwarnings(\"ignore\", category=RuntimeWarning) \n",
    "\n",
    "#Set the parameters value\n",
    "beta=0.988   \n",
    "theta=.679\n",
    "delta=.013\n",
    "kappa=5.24\n",
    "nu=2\n",
    "start = timeit.default_timer()\n",
    "\n",
    "# STEP 1: DISCRETIZE THE STATE SPACE. \n",
    "k_ss=(1/(1-theta)*((1/beta)+delta-1))**(-1/theta)\n",
    "k=np.linspace(0.01,1.5*k_ss,100)#evenly spaced grid. \n",
    "h=np.linspace(0,1,5)\n",
    "\n",
    "#STEP 2: Initial guess\n",
    "#Define a matrix which column vectors are sequential iterations of the value function. \n",
    "V = np.empty(shape=[100, 350])\n",
    "#Guess the initial column vector\n",
    "V[:,0]=np.zeros((100))\n",
    "\n",
    "\n",
    "#STEP 3: Feasible return matrix (M).\n",
    "# Get the grid of all possible combinations of inputs. \n",
    "Z1,Z2,H =np.meshgrid(k,k,h)\n",
    "\n",
    "# Feasible combinations\n",
    "def feasibility(z1,z2,h):\n",
    "    return (z1**(1-theta))*(h**theta) + (1-delta)*z1 - z2\n",
    "\n",
    "#Evaluate the feasibility of different combinations of k_t and k_t+1.\n",
    "N = feasibility(Z1,Z2,H)\n",
    "\n",
    "# Feasible utility function\n",
    "def utility(z1,z2,h):\n",
    "       for i in range(100):\n",
    "            for j in range(100):\n",
    "                for m in range(5):\n",
    "                    if N[i,j,m]>=0:\n",
    "                        return np.log10(z1**(1-theta)*(h**theta) + (1-delta)*z1 - z2) - (kappa/(1+(1/nu)))*(h**(1+(1/nu)))\n",
    "\n",
    "            \n",
    "#Define the feasible return matrix\n",
    "M = utility(Z1,Z2,H)\n",
    "M[np.isnan(M)] = 0\n",
    "np.shape(M)\n",
    "\n",
    "#STEP 4: VALUE FUNCTION MATRIX ITERATION\n",
    "X = np.empty(shape=[100, 100, 5])\n",
    "G= np.empty(shape=[100, 350])\n",
    "count=0\n",
    "for s in range(0,349):\n",
    "    epsilon=0.01\n",
    "    for i in range(100):\n",
    "        for j in range (100):\n",
    "            for m in range (5):\n",
    "                X[i,j,m]=M[i,j,m]+(beta*V[:,s][j])\n",
    "    for i in range(100):\n",
    "        V[:,s+1][i]= np.amax(X[:,i]) #Iteration\n",
    "        G[:,s][i]=np.argmax(X[:,i]) # This line stores the policy function at each iteration. \n",
    "    for i in range(100):\n",
    "        if abs(V[:,s+1][i]-V[:,s][i])> epsilon:\n",
    "            continue\n",
    "        else:\n",
    "            count +=1\n",
    "            break\n",
    "            \n",
    "stop = timeit.default_timer()\n",
    "execution_time = stop - start\n",
    "execution_time=round(execution_time,2)\n",
    "print('Program Executed in', execution_time) #It returns time in sec\n",
    "\n",
    "#STEP 6: PLOT \n",
    "k=np.linspace(0.01,2*k_ss,100)\n",
    "plt.plot(k,V[:,349])\n",
    "plt.title('Value Function')\n",
    "plt.xlabel('Capital')\n",
    "plt.ylabel('Utility')\n",
    "#plt.xlim([0,90])\n",
    "#plt.ylim([0,45])\n",
    "print('Number of iterations:', count)"
   ]
  },
  {
   "cell_type": "markdown",
   "metadata": {},
   "source": [
    "We find that adding continuous labour increases the time takes the algorithm to find the fixed point. This could be because we are using Python and several nested loops. And for loops in Python take a significantly longer time to run the algorithm. "
   ]
  },
  {
   "cell_type": "markdown",
   "metadata": {},
   "source": [
    "### 3 - Redo item 1 using a Chebyshev regression algorithm to approximate the value function. Compare your results."
   ]
  },
  {
   "cell_type": "code",
   "execution_count": 80,
   "metadata": {},
   "outputs": [
    {
     "name": "stdout",
     "output_type": "stream",
     "text": [
      "Program Executed in 0.52\n",
      "Number of iterations: 300\n"
     ]
    },
    {
     "data": {
      "text/plain": [
       "Text(0.5,1,'Chebyshev approximation')"
      ]
     },
     "execution_count": 80,
     "metadata": {},
     "output_type": "execute_result"
    },
    {
     "data": {
      "image/png": "[encoded data removed]",
      "text/plain": [
       "<Figure size 432x288 with 1 Axes>"
      ]
     },
     "metadata": {},
     "output_type": "display_data"
    }
   ],
   "source": [
    "#VFI with Chebyshev regression (we follow Makoto Nakajima notes)\n",
    "import numpy as np\n",
    "import matplotlib.pyplot as plt\n",
    "import timeit\n",
    "import warnings\n",
    "warnings.filterwarnings(\"ignore\", category=RuntimeWarning) \n",
    "#STEP 1: Set the order of polynomials used for approximation.\n",
    "n=2\n",
    "\n",
    "#STEP 2: Set the tolerance parameter\n",
    "epsilon=0.01\n",
    "\n",
    "#STEP 3: Upper and lower bound of the discrete space state\n",
    "beta=0.988   \n",
    "theta=.679\n",
    "delta=.013\n",
    "k_ss=(1/(1-theta)*((1/beta)+delta-1))**(-1/theta)\n",
    "k=np.linspace(0.01,1.5*k_ss,100)#evenly spaced grid. \n",
    "\n",
    "#STEP 4: Compute the collocations nodes. \n",
    "# a) Cheby nodes [-1,1]\n",
    "nodes=[]\n",
    "for i in range(100):\n",
    "    q=np.cos((((2*i)-1)/200)*np.pi)\n",
    "    nodes.append(q)\n",
    "nodes=np.asarray(nodes)\n",
    "\n",
    "#b) Adjust the nodes to the [k0,1.5*k_ss] interval:\n",
    "nod=[]\n",
    "for i in range(100):\n",
    "    q=((nodes[i])*((1.5*k_ss - k[0])/2))+ (((1.5*k_ss + k[0])/2))\n",
    "    nod.append(q)\n",
    "nod=np.asarray(nod)\n",
    "    \n",
    "#STEP 5: Guess for the level of the value function at the points\n",
    "y0=np.ones(100)\n",
    "\n",
    "#STEP 5: Get the Chebyshev coefficients\n",
    "coefficients=np.polynomial.chebyshev.chebfit(nod,y0,n)\n",
    "\n",
    "#STEP 6: Value function guess\n",
    "V0=np.polynomial.chebyshev.chebval(k,coefficients)\n",
    "\n",
    "#STEP 7: Get the policy function\n",
    "#7.1. Get the feasible return matrix M\n",
    "\n",
    "Z1,Z2=np.meshgrid(k,k)\n",
    "def feasibility(z1,z2):\n",
    "    return z1**(1-theta) + (1-delta)*z1 - z2\n",
    "N = feasibility(Z1,Z2)\n",
    "def utility(z1,z2):\n",
    "    for i in range(0,100):\n",
    "        for j in range (0,100):\n",
    "            if N[i,j]>=0:\n",
    "                return np.log10(z1**(1-theta) + (1-delta)*z1 - z2)\n",
    "            else:\n",
    "                return -1000\n",
    "M = utility(Z1,Z2)\n",
    "\n",
    "#7.2. Get the policy function\n",
    "X = np.empty(shape=[100, 100])\n",
    "G0=np.empty(shape=[100,1])\n",
    "for i,j in zip(range(0,100),range(0,100)):\n",
    "    X[i,j]=M[i,j]+(beta*V0[j])\n",
    "    X[np.isnan(X)] = -1000    \n",
    "for i in range(0,100):\n",
    "    G0[i]=np.argmax(X[:,i]) \n",
    "\n",
    "#STEP 8: Update the value function\n",
    "y1=np.empty(shape=[100,1])\n",
    "for i in range(0,100):\n",
    "    y1[i]=utility(k[i],G0[i])+(beta*V0[i])\n",
    "y1[np.isnan(y1)] = 0\n",
    "y1=np.reshape(y1, (100,))\n",
    "\n",
    "#STEP 9: New guess for the coefficients\n",
    "coefficients1=np.polynomial.chebyshev.chebfit(nod,y1,n)\n",
    "\n",
    "\n",
    "#STEP 10: Compare the coefficients:\n",
    "d=np.amax(abs(coefficients - coefficients1))\n",
    "\n",
    "#Since the maximum distance is higher than the tolerance level, we go back to step 6. We need a loop.\n",
    "start = timeit.default_timer()\n",
    "count=0\n",
    "epsilon=0.01\n",
    "while d>epsilon and count<300:\n",
    "    V=np.polynomial.chebyshev.chebval(k,coefficients1) #VF guess\n",
    "    for i,j in zip(range(0,100),range(0,100)): #Return matrix\n",
    "        X[i,j]=M[i,j]+(beta*V[j])\n",
    "        X[np.isnan(X)] = -1000     \n",
    "    for i in range(0,100): #Policy function\n",
    "        G0[i]=np.argmax(X[i,:]) \n",
    "    for i in range(0,100): #Update the value function\n",
    "        y1[i]=utility(k[i],G0[i])+(beta*V[i])\n",
    "        y1[np.isnan(y1)] = 0\n",
    "        y1=np.reshape(y1, (100,))        \n",
    "    coefficients1=np.polynomial.chebyshev.chebfit(nod,y1,n)\n",
    "    d=np.amax(abs(coefficients - coefficients1))\n",
    "    count +=1\n",
    "\n",
    "stop = timeit.default_timer()\n",
    "execution_time = stop - start\n",
    "execution_time=round(execution_time,2)\n",
    "print('Program Executed in', execution_time) #It returns time in sec\n",
    "print('Number of iterations:', count)\n",
    "\n",
    "plt.plot(k,V)\n",
    "plt.xlim([0,40])\n",
    "plt.title('Chebyshev approximation')"
   ]
  },
  {
   "cell_type": "markdown",
   "metadata": {},
   "source": [
    "Using Chebyshev polynomials the time taken by the algorithm is much lower than before. But the number of iterations is 300. The shape of the function is concave. However, it is different from the value function we got before. Nonetheless, we now have positive utility, which was not the case when we were using brute force. "
   ]
  },
  {
   "cell_type": "markdown",
   "metadata": {},
   "source": [
    "## Exercise 2"
   ]
  },
  {
   "cell_type": "markdown",
   "metadata": {},
   "source": [
    "### Part 1 - Add productivity shocks, $z_{t}$, to the previous model"
   ]
  },
  {
   "cell_type": "code",
   "execution_count": 26,
   "metadata": {},
   "outputs": [
    {
     "name": "stdout",
     "output_type": "stream",
     "text": [
      "Program Executed in 5.23\n",
      "Number of iterations: 51\n"
     ]
    },
    {
     "data": {
      "text/plain": [
       "<matplotlib.legend.Legend at 0x11488af28>"
      ]
     },
     "execution_count": 26,
     "metadata": {},
     "output_type": "execute_result"
    },
    {
     "data": {
      "image/png": "[encoded data removed]",
      "text/plain": [
       "<Figure size 432x288 with 1 Axes>"
      ]
     },
     "metadata": {},
     "output_type": "display_data"
    }
   ],
   "source": [
    "#STOCHASTIC, NO LABOR\n",
    "\n",
    "#Import packages\n",
    "import numpy as np\n",
    "import matplotlib.pyplot as plt\n",
    "import timeit\n",
    "\n",
    "#Set the parameters value\n",
    "beta=0.988   \n",
    "theta=.679\n",
    "delta=.013\n",
    "kappa=5.24\n",
    "nu=2\n",
    "start = timeit.default_timer()\n",
    "\n",
    "# STEP 1: DISCRETIZE THE STATE SPACE. \n",
    "#Get the steady state values. h_ss=0.299\n",
    "k_ss=((1/(1-theta)*((1/beta)+delta-1))**(-1/theta))*0.299\n",
    "k=np.linspace(0.01,1.5*k_ss,100)#evenly spaced grid. \n",
    "z=[1.01, 1/1.01] #Shock grid\n",
    "\n",
    "#STEP 2: Initial guess\n",
    "#Define a matrix which column vectors are sequential iterations of the value function. \n",
    "V = np.empty(shape=[200, 350])\n",
    "#Guess the initial column vector\n",
    "V[:,0]=np.zeros((200))\n",
    "\n",
    "\n",
    "#STEP 3: Feasible return matrix (M).\n",
    "# Get the grid of all possible combinations of inputs. \n",
    "K1,K2 =np.meshgrid(k,k)\n",
    "\n",
    "# Get the submatrix M for z=1.01\n",
    "# Feasible combinations\n",
    "def feasibility0(z1,z2):\n",
    "    return (z1**(1-theta))*1.01 + (1-delta)*z1 - z2\n",
    "\n",
    "#Evaluate the feasibility of different combinations of k_t and k_t+1.\n",
    "N0 = feasibility0(K1,K2)\n",
    "\n",
    "# Feasible utility function\n",
    "def utility0(z1,z2):\n",
    "    for i in range(100):\n",
    "        for j in range (100):\n",
    "                if N0[i,j]>=0:\n",
    "                    return np.log10(z1**(1-theta)*1.01 + (1-delta)*z1 - z2)\n",
    "            \n",
    "#Define the feasible return matrix\n",
    "M0 = utility0(K1,K2)\n",
    "M0[np.isnan(M0)] = -100\n",
    "\n",
    "# Get the submatrix M for z=1/1.01\n",
    "# Feasible combinations\n",
    "def feasibility1(z1,z2):\n",
    "    return (z1**(1-theta))*(1/1.01) + (1-delta)*z1 - z2\n",
    "\n",
    "#Evaluate the feasibility of different combinations of k_t and k_t+1.\n",
    "N1 = feasibility1(K1,K2)\n",
    "\n",
    "# Feasible utility function\n",
    "def utility1(z1,z2):\n",
    "    for i in range(100):\n",
    "        for j in range (100):\n",
    "                if N1[i,j]>=0:\n",
    "                    return np.log10(z1**(1-theta)*(1/1.01) + (1-delta)*z1 - z2)\n",
    "            \n",
    "#Define the feasible return matrix\n",
    "M1 = utility1(K1,K2)\n",
    "M1[np.isnan(M1)] = -100\n",
    "\n",
    "#Now, stack the two submatrixes to get the stochastic return matrix M. \n",
    "M= np.vstack((M0,M1))\n",
    "\n",
    "#STEP 4: VALUE FUNCTION MATRIX ITERATION\n",
    "#Notice that since the expectation of the shock is 1, the vector V and W are the same. So we can proceed as before. \n",
    "X = np.empty(shape=[200,100])\n",
    "G= np.empty(shape=[200, 350])\n",
    "count=0\n",
    "for s in range(0,349):\n",
    "    epsilon=0.01\n",
    "    for i in range(200):\n",
    "        for j in range(100):\n",
    "                X[i,j]=M[i,j]+(beta*V[:,s][i])        \n",
    "    for i in range(0,200):\n",
    "        V[:,s+1][i]= np.amax(X[i,:]) #Iteration\n",
    "        G[:,s][i]=np.argmax(X[i,:]) # This line stores the policy function at each iteration. \n",
    "    for i in range(0,200):\n",
    "        if abs(V[:,s+1][i]-V[:,s][i])> epsilon:\n",
    "            continue\n",
    "        else:\n",
    "            count +=1\n",
    "            break\n",
    "\n",
    "stop = timeit.default_timer()\n",
    "execution_time = stop - start\n",
    "execution_time=round(execution_time,2)\n",
    "print('Program Executed in', execution_time) #It returns time in sec\n",
    "print('Number of iterations:', count)\n",
    "\n",
    "#STEP 6: PLOT \n",
    "k=np.linspace(1.5*k_ss,0.01, 100)\n",
    "V=V[:,51]\n",
    "V_good=V[0:100]\n",
    "V_bad=V[100:200]\n",
    "plt.plot(k,V_good, label='Good shock')\n",
    "plt.plot(k,V_bad, label='Bad shock')\n",
    "plt.title('Value Function')\n",
    "plt.xlabel('Capital')\n",
    "plt.ylabel('Utility')\n",
    "plt.legend()"
   ]
  },
  {
   "cell_type": "markdown",
   "metadata": {},
   "source": [
    "Given the fact that the shocks are not very different from each other. We get converegence in 51 iterations. However, the time taken is much longer. This could be the result of the increased dimensionality, from question 1. "
   ]
  },
  {
   "cell_type": "code",
   "execution_count": 27,
   "metadata": {},
   "outputs": [
    {
     "name": "stdout",
     "output_type": "stream",
     "text": [
      "Program Executed in 5.19\n",
      "Number of iterations: 320\n"
     ]
    },
    {
     "data": {
      "text/plain": [
       "<matplotlib.legend.Legend at 0x1146f0ef0>"
      ]
     },
     "execution_count": 27,
     "metadata": {},
     "output_type": "execute_result"
    },
    {
     "data": {
      "image/png": "[encoded data removed]",
      "text/plain": [
       "<Figure size 432x288 with 1 Axes>"
      ]
     },
     "metadata": {},
     "output_type": "display_data"
    }
   ],
   "source": [
    "#STOCHASTIC, NO LABOR\n",
    "\n",
    "#Import packages\n",
    "import numpy as np\n",
    "import matplotlib.pyplot as plt\n",
    "import timeit\n",
    "\n",
    "#Set the parameters value\n",
    "beta=0.988   \n",
    "theta=.679\n",
    "delta=.013\n",
    "kappa=5.24\n",
    "nu=2\n",
    "start = timeit.default_timer()\n",
    "\n",
    "# STEP 1: DISCRETIZE THE STATE SPACE. \n",
    "#Get the steady state values. h_ss=0.299\n",
    "k_ss=((1/(1-theta)*((1/beta)+delta-1))**(-1/theta))*0.299\n",
    "k=np.linspace(0.01,1.5*k_ss,100)#evenly spaced grid. \n",
    "z=[1.01, 1/1.01] #Shock grid\n",
    "\n",
    "#STEP 2: Initial guess\n",
    "#Define a matrix which column vectors are sequential iterations of the value function. \n",
    "V = np.empty(shape=[200, 350])\n",
    "#Guess the initial column vector\n",
    "V[:,0]=np.zeros((200))\n",
    "\n",
    "\n",
    "#STEP 3: Feasible return matrix (M).\n",
    "# Get the grid of all possible combinations of inputs. \n",
    "K1,K2 =np.meshgrid(k,k)\n",
    "\n",
    "# Get the submatrix M for z=1.01\n",
    "# Feasible combinations\n",
    "def feasibility0(z1,z2):\n",
    "    return (z1**(1-theta))*1.01 + (1-delta)*z1 - z2\n",
    "\n",
    "#Evaluate the feasibility of different combinations of k_t and k_t+1.\n",
    "N0 = feasibility0(K1,K2)\n",
    "\n",
    "# Feasible utility function\n",
    "def utility0(z1,z2):\n",
    "    for i in range(100):\n",
    "        for j in range (100):\n",
    "                if N0[i,j]>=0:\n",
    "                    return np.log10(z1**(1-theta)*1.01 + (1-delta)*z1 - z2)\n",
    "            \n",
    "#Define the feasible return matrix\n",
    "M0 = utility0(K1,K2)\n",
    "M0[np.isnan(M0)] = -100\n",
    "\n",
    "# Get the submatrix M for z=1/1.01\n",
    "# Feasible combinations\n",
    "def feasibility1(z1,z2):\n",
    "    return (z1**(1-theta))*(1/1.01) + (1-delta)*z1 - z2\n",
    "\n",
    "#Evaluate the feasibility of different combinations of k_t and k_t+1.\n",
    "N1 = feasibility1(K1,K2)\n",
    "\n",
    "# Feasible utility function\n",
    "def utility1(z1,z2):\n",
    "    for i in range(100):\n",
    "        for j in range (100):\n",
    "                if N1[i,j]>=0:\n",
    "                    return np.log10(z1**(1-theta)*(0.2/1.01) + (1-delta)*z1 - z2)\n",
    "            \n",
    "#Define the feasible return matrix\n",
    "M1 = utility1(K1,K2)\n",
    "M1[np.isnan(M1)] = -100\n",
    "\n",
    "#Now, stack the two submatrixes to get the stochastic return matrix M. \n",
    "M= np.vstack((M0,M1))\n",
    "\n",
    "#STEP 4: VALUE FUNCTION MATRIX ITERATION\n",
    "#Notice that since the expectation of the shock is 1, the vector V and W are the same. So we can proceed as before. \n",
    "X = np.empty(shape=[200,100])\n",
    "G= np.empty(shape=[200, 350])\n",
    "count=0\n",
    "for s in range(0,349):\n",
    "    epsilon=0.01\n",
    "    for i in range(200):\n",
    "        for j in range(100):\n",
    "                X[i,j]=M[i,j]+(beta*V[:,s][i])        \n",
    "    for i in range(0,200):\n",
    "        V[:,s+1][i]= np.amax(X[i,:]) #Iteration\n",
    "        G[:,s][i]=np.argmax(X[i,:]) # This line stores the policy function at each iteration. \n",
    "    for i in range(0,200):\n",
    "        if abs(V[:,s+1][i]-V[:,s][i])> epsilon:\n",
    "            continue\n",
    "        else:\n",
    "            count +=1\n",
    "            break\n",
    "\n",
    "stop = timeit.default_timer()\n",
    "execution_time = stop - start\n",
    "execution_time=round(execution_time,2)\n",
    "print('Program Executed in', execution_time) #It returns time in sec\n",
    "print('Number of iterations:', count)\n",
    "\n",
    "#STEP 6: PLOT \n",
    "k=np.linspace(1.5*k_ss,0.01, 100)\n",
    "#V=V[:,51]\n",
    "V_good=V[0:100]\n",
    "V_bad=V[100:200]\n",
    "plt.plot(k,V_good, label='Good shock')\n",
    "plt.plot(k,V_bad, label='Bad shock')\n",
    "plt.title('Value Function')\n",
    "plt.xlabel('Capital')\n",
    "plt.ylabel('Utility')\n",
    "plt.legend()"
   ]
  },
  {
   "cell_type": "markdown",
   "metadata": {},
   "source": [
    "The above graph uses a different value of shocks and we find that the number of iterations increases significantly while the time taken to run the algorithm reduces by a few milliseconds. "
   ]
  },
  {
   "cell_type": "markdown",
   "metadata": {},
   "source": [
    "### Part 2 - Simulations"
   ]
  },
  {
   "cell_type": "code",
   "execution_count": 32,
   "metadata": {},
   "outputs": [
    {
     "data": {
      "text/plain": [
       "Text(0.5,1,'Capital history')"
      ]
     },
     "execution_count": 32,
     "metadata": {},
     "output_type": "execute_result"
    },
    {
     "data": {
      "image/png": "[encoded data removed]",
      "text/plain": [
       "<Figure size 432x288 with 1 Axes>"
      ]
     },
     "metadata": {},
     "output_type": "display_data"
    }
   ],
   "source": [
    "#Simulation\n",
    "\n",
    "#Import packages\n",
    "import numpy as np\n",
    "import matplotlib.pyplot as plt\n",
    "import timeit\n",
    "import warnings\n",
    "warnings.filterwarnings(\"ignore\", category=RuntimeWarning) \n",
    "\n",
    "#Set the parameters value\n",
    "beta=0.988   \n",
    "theta=.679\n",
    "delta=.013\n",
    "kappa=5.24\n",
    "nu=2\n",
    "start = timeit.default_timer()\n",
    "\n",
    "# STEP 1: DISCRETIZE THE STATE SPACE. \n",
    "#Get the steady state values. h_ss=0.299\n",
    "k_ss=((1/(1-theta)*((1/beta)+delta-1))**(-1/theta))*0.299\n",
    "k=np.linspace(0.01,1.5*k_ss,100)#evenly spaced grid. \n",
    "z=[1.01, 1/1.01] #Shock grid\n",
    "\n",
    "#STEP 2: Initial guess\n",
    "#Define a matrix which column vectors are sequential iterations of the value function. \n",
    "V = np.empty(shape=[200, 350])\n",
    "#Guess the initial column vector\n",
    "V[:,0]=np.zeros((200))\n",
    "\n",
    "\n",
    "#STEP 3: Feasible return matrix (M).\n",
    "# Get the grid of all possible combinations of inputs. \n",
    "K1,K2 =np.meshgrid(k,k)\n",
    "\n",
    "# Get the submatrix M for z=1.01\n",
    "# Feasible combinations\n",
    "def feasibility0(z1,z2):\n",
    "    return (z1**(1-theta))*1.01 + (1-delta)*z1 - z2\n",
    "\n",
    "#Evaluate the feasibility of different combinations of k_t and k_t+1.\n",
    "N0 = feasibility0(K1,K2)\n",
    "\n",
    "# Feasible utility function\n",
    "def utility0(z1,z2):\n",
    "    for i in range(100):\n",
    "        for j in range (100):\n",
    "                if N0[i,j]>=0:\n",
    "                    return np.log10(z1**(1-theta)*1.01 + (1-delta)*z1 - z2)\n",
    "            \n",
    "#Define the feasible return matrix\n",
    "M0 = utility0(K1,K2)\n",
    "M0[np.isnan(M0)] = -1000\n",
    "\n",
    "# Get the submatrix M for z=0.5/1.01\n",
    "# Feasible combinations\n",
    "def feasibility1(z1,z2):\n",
    "    return ((z1**(1-theta))*(0.2/1.01)) + ((1-delta)*z1) - z2\n",
    "\n",
    "#Evaluate the feasibility of different combinations of k_t and k_t+1.\n",
    "N1 = feasibility1(K1,K2)\n",
    "\n",
    "# Feasible utility function\n",
    "def utility1(z1,z2):\n",
    "    for i in range(100):\n",
    "        for j in range (100):\n",
    "                if N1[i,j]>=0:\n",
    "                    return np.log10(z1**(1-theta)*(0.2/1.01) + (1-delta)*z1 - z2)\n",
    "            \n",
    "#Define the feasible return matrix\n",
    "M1 = utility1(K1,K2)\n",
    "M1[np.isnan(M1)] = -1000\n",
    "\n",
    "#Now, stack the two submatrixes to get the stochastic return matrix M. \n",
    "M= np.vstack((M0,M1))\n",
    "\n",
    "#STEP 4: VALUE FUNCTION MATRIX ITERATION\n",
    "#Notice that since the expectation of the shock is 1, the vector V and W are the same. So we can proceed as before. \n",
    "X = np.empty(shape=[200,100])\n",
    "G= np.empty(shape=[200, 350])\n",
    "count=0\n",
    "for s in range(0,349):\n",
    "    epsilon=0.01\n",
    "    for i in range(200):\n",
    "        for j in range(100):\n",
    "                X[i,j]=M[i,j]+(beta*V[:,s][i])        \n",
    "    for i in range(0,200):\n",
    "        V[:,s+1][i]= np.amax(X[i,:]) #Iteration\n",
    "        G[:,s][i]=np.argmax(X[i,:]) # This line stores the policy function at each iteration. \n",
    "    for i in range(0,200):\n",
    "        if abs(V[:,s+1][i]-V[:,s][i])> epsilon:\n",
    "            continue\n",
    "        else:\n",
    "            count +=1\n",
    "            break\n",
    "\n",
    "#Simulate a shock history\n",
    "shocks=np.random.choice([1.01,(0.2/1.01)],size=100,p=[0.5,0.5])\n",
    "G=G[:,348]\n",
    "G_good=G[0:100]\n",
    "G_bad=G[100:200]\n",
    "index=np.ones((100))\n",
    "index[0]=0\n",
    "for i in range (99): #Get the indexes of capital\n",
    "    if shocks[i]==1.01:\n",
    "        index[i+1]=G_good[int(index[i])]\n",
    "    else:\n",
    "        index[i+1]=G_bad[int(index[i])]\n",
    "\n",
    "#Get the history of capitalc\n",
    "capital=np.empty(100)\n",
    "for i in range(100):\n",
    "    capital[i]=k[int(index[i])]\n",
    "capital \n",
    "\n",
    "#History of consumption and output\n",
    "output=np.empty(100)\n",
    "for i in range(99):\n",
    "    output[i]=pow(capital[i],1-theta)\n",
    "\n",
    "consumption=np.empty(100)\n",
    "for i in range(99):\n",
    "    consumption[i]=capital[i]**(1-theta) + (1-delta)*capital[i] - capital[i+1]\n",
    "\n",
    "#PLOT\n",
    "plt.figure()\n",
    "time=np.linspace(0,100,100)\n",
    "#plt.subplot(131)\n",
    "plt.plot(time,kapital)\n",
    "plt.title('Capital history')\n"
   ]
  },
  {
   "cell_type": "code",
   "execution_count": 33,
   "metadata": {},
   "outputs": [
    {
     "name": "stdout",
     "output_type": "stream",
     "text": [
      "Variance of capital: 3.602101723556259\n",
      "Variance of output: 2.76023179063539\n",
      "Variance of consumption: 4.483102944596157\n"
     ]
    },
    {
     "data": {
      "text/plain": [
       "Text(0,0.5,'Capital')"
      ]
     },
     "execution_count": 33,
     "metadata": {},
     "output_type": "execute_result"
    },
    {
     "data": {
      "image/png": "[encoded data removed]",
      "text/plain": [
       "<Figure size 432x288 with 1 Axes>"
      ]
     },
     "metadata": {},
     "output_type": "display_data"
    }
   ],
   "source": [
    "#FILTER\n",
    "import statsmodels.api as sm\n",
    "var_kapital=np.var(kapital)\n",
    "var_output=np.var(output)\n",
    "var_consumption=np.var(consumption)\n",
    "print('Variance of capital:',var_kapital )\n",
    "print('Variance of output:',var_output )\n",
    "print('Variance of consumption:',var_consumption )\n",
    "cycle1, trend1 = sm.tsa.filters.hpfilter(kapital, 6.25)\n",
    "cycle2, trend2 = sm.tsa.filters.hpfilter(output, 6.25)\n",
    "cycle3, trend3 = sm.tsa.filters.hpfilter(output, 6.25)\n",
    "\n",
    "plt.figure()\n",
    "plt.plot(time, trend1, label='Trend')\n",
    "plt.plot(time,kapital, label='Simulated data')\n",
    "plt.plot(time,cycle1, label='Cycle')\n",
    "plt.legend()\n",
    "plt.title('HP filter (capital)')\n",
    "plt.xlabel('Time')\n",
    "plt.ylabel('Capital')"
   ]
  },
  {
   "cell_type": "markdown",
   "metadata": {},
   "source": [
    "It seems like capital reaches steady state. However, the way the code is written might be the cause of the strange result. "
   ]
  },
  {
   "cell_type": "code",
   "execution_count": null,
   "metadata": {},
   "outputs": [],
   "source": []
  }
 ],
 "metadata": {
  "kernelspec": {
   "display_name": "Python 3",
   "language": "python",
   "name": "python3"
  },
  "language_info": {
   "codemirror_mode": {
    "name": "ipython",
    "version": 3
   },
   "file_extension": ".py",
   "mimetype": "text/x-python",
   "name": "python",
   "nbconvert_exporter": "python",
   "pygments_lexer": "ipython3",
   "version": "3.6.5"
  }
 },
 "nbformat": 4,
 "nbformat_minor": 2
}
